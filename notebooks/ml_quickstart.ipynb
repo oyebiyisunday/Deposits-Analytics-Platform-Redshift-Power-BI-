﻿{
  "cells": [
    {
      "cell_type": "markdown",
      "metadata": {},
      "source": [
        "# ML Quickstart: Load, Train, Score"
      ]
    },
    {
      "cell_type": "code",
      "metadata": {},
      "outputs": [],
      "execution_count": null,
      "source": [
        "import os, boto3, pandas as pd\n",
        "project = os.environ.get('PROJECT','deposits-analytics-platform')\n",
        "bucket_suffix = os.environ.get('BUCKET_SUFFIX','your-suffix')\n",
        "curated = f\"{project}-curated-{bucket_suffix}\"\n",
        "print('Curated bucket:', curated)\n"
      ]
    },
    {
      "cell_type": "markdown",
      "metadata": {},
      "source": [
        "## Train (SageMaker SDK)"
      ]
    },
    {
      "cell_type": "code",
      "metadata": {},
      "outputs": [],
      "execution_count": null,
      "source": [
        "import os\n",
        "os.environ['CURATED_BUCKET']=curated\n",
        "!python scripts/ml/train_register.py\n"
      ]
    }
  ],
  "metadata": {
    "kernelspec": {
      "display_name": "Python 3",
      "language": "python",
      "name": "python3"
    },
    "language_info": {
      "name": "python",
      "version": "3.12"
    }
  },
  "nbformat": 4,
  "nbformat_minor": 2
}
